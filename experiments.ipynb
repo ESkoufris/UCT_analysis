{
 "cells": [
  {
   "cell_type": "code",
   "execution_count": 41,
   "id": "13023307",
   "metadata": {},
   "outputs": [
    {
     "data": {
      "text/plain": [
       "TaskLocalRNG()"
      ]
     },
     "metadata": {},
     "output_type": "display_data"
    }
   ],
   "source": [
    "include(\"MCTS.jl\")\n",
    "include(\"value_iteration.jl\")\n",
    "include(\"experiment_functions.jl\")\n",
    "using Plots, Distributions, Random\n",
    "\n",
    "Random.seed!(24) "
   ]
  },
  {
   "cell_type": "code",
   "execution_count": 37,
   "id": "c3f76ef2",
   "metadata": {},
   "outputs": [
    {
     "data": {
      "text/plain": [
       "10"
      ]
     },
     "metadata": {},
     "output_type": "display_data"
    }
   ],
   "source": [
    "Random.seed!(24)  # reproducibility\n",
    "\n",
    "gamma = 1\n",
    "max_depth = 50\n",
    "c_param = 1.2\n",
    "\n",
    "S = 6\n",
    "A = 3\n",
    "H = 10\n"
   ]
  },
  {
   "cell_type": "code",
   "execution_count": null,
   "id": "fd1a432c",
   "metadata": {},
   "outputs": [
    {
     "data": {
      "text/plain": [
       "0.6768854054551042"
      ]
     },
     "metadata": {},
     "output_type": "display_data"
    }
   ],
   "source": [
    "randMDP = random_MDP(S, A, γ = 0.1, is_deterministic = true, horizon = 10)"
   ]
  },
  {
   "cell_type": "code",
   "execution_count": 42,
   "id": "4f9c0d41",
   "metadata": {},
   "outputs": [
    {
     "name": "stdout",
     "output_type": "stream",
     "text": [
      "Accuracy per state: [1.0, 0.97, 0.0, 0.0, 0.54, 0.02]\n",
      "Overall accuracy: 0.4216666666666667\n"
     ]
    }
   ],
   "source": [
    "\n",
    "gamma = 1\n",
    "max_depth = 50\n",
    "c_param = 1.2\n",
    "\n",
    "S = 6\n",
    "A = 3\n",
    "H = 10\n",
    "\n",
    "randMDP = random_MDP(S, A, γ = gamma, is_deterministic = true, horizon = H)\n",
    "rollout_policy = random_rollout(randMDP)\n",
    "\n",
    "optimal_policy = value_iteration(randMDP)[2]\n",
    "rollout_policy = zeros(S,A)\n",
    "\n",
    "for s in 1:S, a in 1:A\n",
    "    rollout_policy[s,a] = (optimal_policy[s] == a)\n",
    "end\n",
    "\n",
    "config = MCTSConfig(randMDP, rollout_policy, H, ucb, c_param)\n",
    "\n",
    "counts = zeros(Int, length(randMDP.states))\n",
    "tries = 100\n",
    "\n",
    "for initial_state in 1:length(randMDP.states)\n",
    "    for _ in 1:tries\n",
    "        root = MCTSNode(initial_state)\n",
    "        best_act = best_actions(root, config, 10000)\n",
    "        if best_act == optimal_policy[initial_state]\n",
    "            counts[initial_state] += 1\n",
    "        end\n",
    "    end\n",
    "end\n",
    "\n",
    "println(\"Accuracy per state: \", counts ./ tries)\n",
    "println(\"Overall accuracy: \", sum(counts) / (tries * length(randMDP.states)))"
   ]
  },
  {
   "cell_type": "code",
   "execution_count": 9,
   "id": "4c3ddda6",
   "metadata": {},
   "outputs": [
    {
     "data": {
      "text/plain": [
       "([0.3333333333333333, 0.6666666666666666, 0.6666666666666666, 0.3333333333333333, 0.8333333333333334, 0.3333333333333333, 0.3333333333333333, 0.6666666666666666, 0.5, 0.5  …  0.5, 0.5, 0.6666666666666666, 0.0, 0.6666666666666666, 0.16666666666666666, 0.5, 0.6666666666666666, 0.3333333333333333, 0.5], MDP(10, [1, 2, 3], [1, 2, 3, 4, 5, 6], var\"#60#61\"{Matrix{Float64}}([0.2157089647679786 -0.5866032240391607 0.08496099978490186; -0.41936257961405765 -1.4390444598335483 0.36615785713416343; … ; -0.1752851783016378 0.49106876039541036 1.228001236637492; 3.799207728338466 0.909943081488009 -0.47934480643723826]), 1, [0.0 0.0 … 0.0 0.0; 0.0 0.0 … 0.0 0.0; … ; 1.0 0.0 … 0.0 0.0; 0.0 0.0 … 0.0 1.0;;; 0.0 0.0 … 0.0 0.0; 0.0 0.0 … 0.0 0.0; … ; 0.0 0.0 … 1.0 0.0; 0.0 0.0 … 0.0 0.0;;; 0.0 0.0 … 1.0 0.0; 1.0 1.0 … 0.0 0.0; … ; 0.0 0.0 … 0.0 1.0; 0.0 0.0 … 0.0 0.0], true), [2, 1, 1, 2, 1, 1])"
      ]
     },
     "metadata": {},
     "output_type": "display_data"
    }
   ],
   "source": [
    "run_MCTS()"
   ]
  },
  {
   "cell_type": "code",
   "execution_count": null,
   "id": "fd3964c4",
   "metadata": {},
   "outputs": [
    {
     "data": {
      "text/plain": [
       "10×10 Matrix{Float64}:\n",
       " 0.163552   0.0181641  0.397216   0.746508  …  0.2839    0.772675   0.42142\n",
       " 0.0164649  0.648311   0.123832   0.669831     0.463053  0.488949   0.400821\n",
       " 0.165727   0.52228    0.67911    0.799892     0.132011  0.442737   0.374462\n",
       " 0.400537   0.731395   0.405944   0.504532     0.672988  0.92119    0.808232\n",
       " 0.401196   0.788336   0.452513   0.763056     0.933552  0.809343   0.387638\n",
       " 0.359726   0.873344   0.54635    0.824376  …  0.575061  0.360569   0.324532\n",
       " 0.102517   0.359307   0.25637    0.736801     0.328024  0.254219   0.555831\n",
       " 0.756871   0.56154    0.484244   0.326548     0.685822  0.862735   0.70502\n",
       " 0.151966   0.514936   0.419875   0.738679     0.025784  0.0756952  0.225256\n",
       " 0.665121   0.924232   0.0999143  0.62621      0.697677  0.29405    0.377615"
      ]
     },
     "metadata": {},
     "output_type": "display_data"
    }
   ],
   "source": [
    "rand(10,10)"
   ]
  },
  {
   "cell_type": "code",
   "execution_count": 51,
   "id": "a467e734",
   "metadata": {},
   "outputs": [
    {
     "data": {
      "text/plain": [
       "0.6"
      ]
     },
     "metadata": {},
     "output_type": "display_data"
    }
   ],
   "source": [
    "using LinearAlgebra\n",
    "\n",
    "reward_dynamics = zeros(Float64, 10, 2, 2)\n",
    "rewards = [0,1]\n",
    "reward_dynamics[1,2,:] = [0.4, 0.6]\n",
    "\n",
    "dot(rewards, reward_dynamics[1,2,:])\n",
    "\n"
   ]
  },
  {
   "cell_type": "code",
   "execution_count": null,
   "id": "07a0f085",
   "metadata": {},
   "outputs": [
    {
     "data": {
      "text/plain": [
       "1"
      ]
     },
     "metadata": {},
     "output_type": "display_data"
    }
   ],
   "source": [
    "using Distributions, Random\n"
   ]
  },
  {
   "cell_type": "code",
   "execution_count": null,
   "id": "0f39b1c3",
   "metadata": {},
   "outputs": [],
   "source": []
  }
 ],
 "metadata": {
  "kernelspec": {
   "display_name": "Julia 1.11.6",
   "language": "julia",
   "name": "julia-1.11"
  },
  "language_info": {
   "file_extension": ".jl",
   "mimetype": "application/julia",
   "name": "julia",
   "version": "1.11.6"
  }
 },
 "nbformat": 4,
 "nbformat_minor": 5
}
