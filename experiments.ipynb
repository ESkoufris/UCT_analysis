{
 "cells": [
  {
   "cell_type": "code",
   "execution_count": null,
   "id": "13023307",
   "metadata": {},
   "outputs": [
    {
     "data": {
      "text/plain": [
       "run_MCTS (generic function with 1 method)"
      ]
     },
     "metadata": {},
     "output_type": "display_data"
    }
   ],
   "source": [
    "include(\"MCTS.jl\")\n",
    "include(\"value_iteration.jl\")\n",
    "include(\"experiment_functions.jl\")\n",
    "\n",
    "Random.seed!(24) "
   ]
  },
  {
   "cell_type": "code",
   "execution_count": null,
   "id": "c3f76ef2",
   "metadata": {},
   "outputs": [],
   "source": [
    "Random.seed!(24)  # reproducibility\n",
    "\n",
    "gamma = 1\n",
    "max_depth = 50\n",
    "c_param = 1.2\n",
    "\n",
    "S = 6\n",
    "A = 3\n",
    "H = 10\n"
   ]
  },
  {
   "cell_type": "code",
   "execution_count": null,
   "id": "4f9c0d41",
   "metadata": {},
   "outputs": [
    {
     "name": "stdout",
     "output_type": "stream",
     "text": [
      "Accuracy per state: [0.94, 0.01, 0.98, 0.02, 0.0, 1.0]\n",
      "Overall accuracy: 0.49166666666666664\n"
     ]
    }
   ],
   "source": [
    "\n",
    "gamma = 1\n",
    "max_depth = 50\n",
    "c_param = 1.2\n",
    "\n",
    "S = 6\n",
    "A = 3\n",
    "H = 10\n",
    "\n",
    "randMDP = random_MDP(S, A, γ = gamma, is_deterministic = true, horizon = H)\n",
    "rollout_policy = random_rollout(randMDP)\n",
    "\n",
    "optimal_policy = value_iteration(randMDP)[2]\n",
    "rollout_policy = zeros(S,A)\n",
    "\n",
    "for s in 1:S, a in 1:A\n",
    "    rollout_policy[s,a] = (optimal_policy[s] == a)\n",
    "end\n",
    "\n",
    "config = MCTSConfig(randMDP, rollout_policy, H, ucb, c_param)\n",
    "\n",
    "counts = zeros(Int, length(randMDP.states))\n",
    "tries = 100\n",
    "\n",
    "for initial_state in 1:length(randMDP.states)\n",
    "    for _ in 1:tries\n",
    "        root = MCTSNode(initial_state)\n",
    "        best_act = best_actions(root, config, 10000)\n",
    "        if best_act == optimal_policy[initial_state]\n",
    "            counts[initial_state] += 1\n",
    "        end\n",
    "    end\n",
    "end\n",
    "\n",
    "println(\"Accuracy per state: \", counts ./ tries)\n",
    "println(\"Overall accuracy: \", sum(counts) / (tries * length(randMDP.states)))"
   ]
  },
  {
   "cell_type": "code",
   "execution_count": 9,
   "id": "4c3ddda6",
   "metadata": {},
   "outputs": [
    {
     "data": {
      "text/plain": [
       "([0.3333333333333333, 0.6666666666666666, 0.6666666666666666, 0.3333333333333333, 0.8333333333333334, 0.3333333333333333, 0.3333333333333333, 0.6666666666666666, 0.5, 0.5  …  0.5, 0.5, 0.6666666666666666, 0.0, 0.6666666666666666, 0.16666666666666666, 0.5, 0.6666666666666666, 0.3333333333333333, 0.5], MDP(10, [1, 2, 3], [1, 2, 3, 4, 5, 6], var\"#60#61\"{Matrix{Float64}}([0.2157089647679786 -0.5866032240391607 0.08496099978490186; -0.41936257961405765 -1.4390444598335483 0.36615785713416343; … ; -0.1752851783016378 0.49106876039541036 1.228001236637492; 3.799207728338466 0.909943081488009 -0.47934480643723826]), 1, [0.0 0.0 … 0.0 0.0; 0.0 0.0 … 0.0 0.0; … ; 1.0 0.0 … 0.0 0.0; 0.0 0.0 … 0.0 1.0;;; 0.0 0.0 … 0.0 0.0; 0.0 0.0 … 0.0 0.0; … ; 0.0 0.0 … 1.0 0.0; 0.0 0.0 … 0.0 0.0;;; 0.0 0.0 … 1.0 0.0; 1.0 1.0 … 0.0 0.0; … ; 0.0 0.0 … 0.0 1.0; 0.0 0.0 … 0.0 0.0], true), [2, 1, 1, 2, 1, 1])"
      ]
     },
     "metadata": {},
     "output_type": "display_data"
    }
   ],
   "source": [
    "run_MCTS()"
   ]
  }
 ],
 "metadata": {
  "kernelspec": {
   "display_name": "Julia 1.11.6",
   "language": "julia",
   "name": "julia-1.11"
  },
  "language_info": {
   "file_extension": ".jl",
   "mimetype": "application/julia",
   "name": "julia",
   "version": "1.11.6"
  }
 },
 "nbformat": 4,
 "nbformat_minor": 5
}
