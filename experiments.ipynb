{
 "cells": [
  {
   "cell_type": "code",
   "execution_count": 1,
   "id": "13023307",
   "metadata": {},
   "outputs": [
    {
     "data": {
      "text/plain": [
       "TaskLocalRNG()"
      ]
     },
     "metadata": {},
     "output_type": "display_data"
    }
   ],
   "source": [
    "include(\"MCTS.jl\")\n",
    "include(\"value_iteration.jl\")\n",
    "\n",
    "Random.seed!(1234) "
   ]
  },
  {
   "cell_type": "code",
   "execution_count": 30,
   "id": "4f9c0d41",
   "metadata": {},
   "outputs": [
    {
     "ename": "MethodError",
     "evalue": "MethodError: no method matching random_MDP(::Int64, ::Int64, ::Int64; γ::Float64, deterministic::Bool)\nThe function `random_MDP` exists, but no method is defined for this combination of argument types.\n\nClosest candidates are:\n  random_MDP(::Int64, ::Int64; γ, deterministic)\n   @ Main ~/Documents/2025/UCT-analysis-for-thesis/MDP.jl:10\n",
     "output_type": "error",
     "traceback": [
      "MethodError: no method matching random_MDP(::Int64, ::Int64, ::Int64; γ::Float64, deterministic::Bool)\n",
      "The function `random_MDP` exists, but no method is defined for this combination of argument types.\n",
      "\n",
      "Closest candidates are:\n",
      "  random_MDP(::Int64, ::Int64; γ, deterministic)\n",
      "   @ Main ~/Documents/2025/UCT-analysis-for-thesis/MDP.jl:10\n",
      "\n",
      "\n",
      "Stacktrace:\n",
      " [1] top-level scope\n",
      "   @ ~/Documents/2025/UCT-analysis-for-thesis/jl_notebook_cell_df34fa98e69747e1a8f8a730347b8e2f_W1sZmlsZQ==.jl:12"
     ]
    }
   ],
   "source": [
    "using Random\n",
    "Random.seed!(24)  # reproducibility\n",
    "\n",
    "gamma = 0.9\n",
    "max_depth = 50\n",
    "c_param = 1.2\n",
    "\n",
    "S = 3\n",
    "A = 2\n",
    "H = 10\n",
    "\n",
    "randMDP = random_MDP(H, S, A, γ=gamma, deterministic=true)\n",
    "rollout_policy = random_rollout(randMDP)\n",
    "\n",
    "optimal_policy = value_iteration(randMDP)[2]\n",
    "rollout_policy = zeros(S,A)\n",
    "\n",
    "for s in 1:S, a in 1:A\n",
    "    rollout_policy[s,a] = (optimal_policy[s] == a)\n",
    "end\n",
    "\n",
    "config = MCTSConfig(randMDP, rollout_policy, max_depth = H, ucb, c_param)\n",
    "\n",
    "counts = zeros(Int, length(randMDP.states))\n",
    "tries = 100\n",
    "\n",
    "for initial_state in 1:length(randMDP.states)\n",
    "    for _ in 1:tries\n",
    "        root = MCTSNode(initial_state)\n",
    "        best_act = best_actions(root, config, 10000)\n",
    "        if best_act == optimal_policy[initial_state]\n",
    "            counts[initial_state] += 1\n",
    "        end\n",
    "    end\n",
    "end\n",
    "\n",
    "println(\"Accuracy per state: \", counts ./ tries)\n",
    "println(\"Overall accuracy: \", sum(counts) / (tries * length(randMDP.states)))"
   ]
  },
  {
   "cell_type": "code",
   "execution_count": 15,
   "id": "00a642b3",
   "metadata": {},
   "outputs": [
    {
     "data": {
      "text/plain": [
       "3-element Vector{Int64}:\n",
       " 2\n",
       " 2\n",
       " 1"
      ]
     },
     "metadata": {},
     "output_type": "display_data"
    }
   ],
   "source": [
    "optimal_policy"
   ]
  },
  {
   "cell_type": "code",
   "execution_count": 16,
   "id": "0aa57d40",
   "metadata": {},
   "outputs": [
    {
     "data": {
      "text/plain": [
       "3×3×2 Array{Float64, 3}:\n",
       "[:, :, 1] =\n",
       " 0.0  0.0  0.0\n",
       " 1.0  1.0  0.0\n",
       " 0.0  0.0  1.0\n",
       "\n",
       "[:, :, 2] =\n",
       " 0.0  0.0  1.0\n",
       " 1.0  0.0  0.0\n",
       " 0.0  1.0  0.0"
      ]
     },
     "metadata": {},
     "output_type": "display_data"
    }
   ],
   "source": [
    "randMDP.dynamics"
   ]
  },
  {
   "cell_type": "code",
   "execution_count": 18,
   "id": "8123dd39",
   "metadata": {},
   "outputs": [
    {
     "data": {
      "text/plain": [
       "3×2 Matrix{Float64}:\n",
       " -0.912923  -0.35417\n",
       "  0.631621   0.796127\n",
       "  1.43868   -1.17537"
      ]
     },
     "metadata": {},
     "output_type": "display_data"
    }
   ],
   "source": [
    "r = [randMDP.reward_function(s,a) for s in 1:3, a in 1:2]"
   ]
  },
  {
   "cell_type": "code",
   "execution_count": 48,
   "id": "fc8df41b",
   "metadata": {},
   "outputs": [
    {
     "data": {
      "text/plain": [
       "3-element Vector{Int64}:\n",
       " 2\n",
       " 2\n",
       " 1"
      ]
     },
     "metadata": {},
     "output_type": "display_data"
    }
   ],
   "source": [
    "optimal_policy"
   ]
  },
  {
   "cell_type": "code",
   "execution_count": 31,
   "id": "0bc0b6f2",
   "metadata": {},
   "outputs": [
    {
     "data": {
      "text/plain": [
       "3×3×2 Array{Float64, 3}:\n",
       "[:, :, 1] =\n",
       " 0.0  0.0  0.0\n",
       " 1.0  1.0  0.0\n",
       " 0.0  0.0  1.0\n",
       "\n",
       "[:, :, 2] =\n",
       " 0.0  0.0  1.0\n",
       " 1.0  0.0  0.0\n",
       " 0.0  1.0  0.0"
      ]
     },
     "metadata": {},
     "output_type": "display_data"
    }
   ],
   "source": [
    "randMDP.dynamics"
   ]
  }
 ],
 "metadata": {
  "kernelspec": {
   "display_name": "Julia 1.11.6",
   "language": "julia",
   "name": "julia-1.11"
  },
  "language_info": {
   "file_extension": ".jl",
   "mimetype": "application/julia",
   "name": "julia",
   "version": "1.11.6"
  }
 },
 "nbformat": 4,
 "nbformat_minor": 5
}
