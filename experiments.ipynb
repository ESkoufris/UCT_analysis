{
 "cells": [
  {
   "cell_type": "code",
   "execution_count": 1,
   "id": "13023307",
   "metadata": {},
   "outputs": [
    {
     "data": {
      "text/plain": [
       "value_iteration (generic function with 1 method)"
      ]
     },
     "metadata": {},
     "output_type": "display_data"
    }
   ],
   "source": [
    "include(\"MCTS.jl\")\n",
    "include(\"value_iteration.jl\")"
   ]
  },
  {
   "cell_type": "code",
   "execution_count": null,
   "id": "4f9c0d41",
   "metadata": {},
   "outputs": [
    {
     "data": {
      "text/plain": [
       "10-element Vector{Float64}:\n",
       " 1.0\n",
       " 0.0\n",
       " 1.0\n",
       " 1.0\n",
       " 0.0\n",
       " 1.0\n",
       " 0.0\n",
       " 1.0\n",
       " 1.0\n",
       " 1.0"
      ]
     },
     "metadata": {},
     "output_type": "display_data"
    }
   ],
   "source": [
    "randMDP = random_MDP(10,2)\n",
    "# rollout_policy = random_rollout(randMDP)\n",
    "\n",
    "config = MCTSConfig(randMDP, rollout_policy, 30, ucb, 0.9)\n",
    "\n",
    "optimal_policy = value_iteration(randMDP)[2] # optimal policy\n",
    "counts = zeros(Int, length(randMDP.states))\n",
    "tries = 30\n",
    "# Run MCTS for each initial state and print the best action\n",
    "\n",
    "for initial_state in 1:length(randMDP.states)\n",
    "    for _ in 1:tries\n",
    "        root = MCTSNode(initial_state)\n",
    "        best_act = best_actions(root, config, 100)\n",
    "        counts[initial_state] += (best_act == optimal_policy[initial_state])\n",
    "    end\n",
    "end\n",
    "\n",
    "counts/tries"
   ]
  },
  {
   "cell_type": "code",
   "execution_count": 88,
   "id": "59977787",
   "metadata": {},
   "outputs": [
    {
     "ename": "BoundsError",
     "evalue": "BoundsError: attempt to access 3×3×2 Array{Float64, 3} at index [1:3, 1, 3]",
     "output_type": "error",
     "traceback": [
      "BoundsError: attempt to access 3×3×2 Array{Float64, 3} at index [1:3, 1, 3]\n",
      "\n",
      "Stacktrace:\n",
      " [1] throw_boundserror(A::Array{Float64, 3}, I::Tuple{Base.Slice{Base.OneTo{Int64}}, Int64, Int64})\n",
      "   @ Base ./essentials.jl:14\n",
      " [2] checkbounds\n",
      "   @ ./abstractarray.jl:699 [inlined]\n",
      " [3] _getindex\n",
      "   @ ./multidimensional.jl:914 [inlined]\n",
      " [4] getindex\n",
      "   @ ./abstractarray.jl:1312 [inlined]\n",
      " [5] sample_next_state(dynamics::Array{Float64, 3}, state::Int64, action::Int64)\n",
      "   @ Main ~/Documents/2025/UCT-analysis-for-thesis/MCTS.jl:57\n",
      " [6] simulate(state::Int64, config::MCTSConfig, depth::Int64)\n",
      "   @ Main ~/Documents/2025/UCT-analysis-for-thesis/MCTS.jl:84\n",
      " [7] best_actions(root::MCTSNode, config::MCTSConfig, iterations::Int64)\n",
      "   @ Main ~/Documents/2025/UCT-analysis-for-thesis/MCTS.jl:149\n",
      " [8] top-level scope\n",
      "   @ ~/Documents/2025/UCT-analysis-for-thesis/jl_notebook_cell_df34fa98e69747e1a8f8a730347b8e2f_W2sZmlsZQ==.jl:12"
     ]
    }
   ],
   "source": [
    "basic_MDP = MDP([1,2], [1,2,3], r, 0.9, dynamics)\n",
    "config = MCTSConfig(basic_MDP, rollout_policy, 30, ucb, 0.4)\n",
    "\n",
    "optimal_policy = value_iteration(basic_MDP)[2] # optimal policy\n",
    "counts = zeros(Int, 3)\n",
    "tries = 30\n",
    "# Run MCTS for each initial state and print the best action\n",
    "\n",
    "for initial_state in 1:3\n",
    "    for _ in 1:tries\n",
    "        root = MCTSNode(initial_state)\n",
    "        best_act = best_actions(root, config, 100)\n",
    "        if initial_state == 2\n",
    "            print(best_act)\n",
    "        end \n",
    "        counts[initial_state] += (best_act == optimal_policy[initial_state])\n",
    "    end\n",
    "end\n",
    "\n",
    "counts/tries"
   ]
  },
  {
   "cell_type": "code",
   "execution_count": 89,
   "id": "8576cd9e",
   "metadata": {},
   "outputs": [
    {
     "data": {
      "text/plain": [
       "3×3×2 Array{Float64, 3}:\n",
       "[:, :, 1] =\n",
       " 0.8  0.1  0.0\n",
       " 0.2  0.8  0.2\n",
       " 0.0  0.1  0.8\n",
       "\n",
       "[:, :, 2] =\n",
       " 0.2  0.0  0.0\n",
       " 0.8  0.2  0.8\n",
       " 0.0  0.8  0.2"
      ]
     },
     "metadata": {},
     "output_type": "display_data"
    }
   ],
   "source": [
    "dynamics"
   ]
  }
 ],
 "metadata": {
  "kernelspec": {
   "display_name": "Julia 1.11.6",
   "language": "julia",
   "name": "julia-1.11"
  },
  "language_info": {
   "file_extension": ".jl",
   "mimetype": "application/julia",
   "name": "julia",
   "version": "1.11.6"
  }
 },
 "nbformat": 4,
 "nbformat_minor": 5
}
